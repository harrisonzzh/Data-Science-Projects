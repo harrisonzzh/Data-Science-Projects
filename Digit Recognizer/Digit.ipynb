{
 "cells": [
  {
   "cell_type": "markdown",
   "metadata": {},
   "source": [
    "## Digit Recognizer"
   ]
  },
  {
   "cell_type": "markdown",
   "metadata": {},
   "source": [
    "(a) Join the Digit Recognizer competition on Kaggle. Download the training and test data. The competition page describes how these files are formatted."
   ]
  },
  {
   "cell_type": "code",
   "execution_count": 4,
   "metadata": {
    "scrolled": true
   },
   "outputs": [
    {
     "data": {
      "text/html": [
       "<div>\n",
       "<style>\n",
       "    .dataframe thead tr:only-child th {\n",
       "        text-align: right;\n",
       "    }\n",
       "\n",
       "    .dataframe thead th {\n",
       "        text-align: left;\n",
       "    }\n",
       "\n",
       "    .dataframe tbody tr th {\n",
       "        vertical-align: top;\n",
       "    }\n",
       "</style>\n",
       "<table border=\"1\" class=\"dataframe\">\n",
       "  <thead>\n",
       "    <tr style=\"text-align: right;\">\n",
       "      <th></th>\n",
       "      <th>label</th>\n",
       "      <th>pixel0</th>\n",
       "      <th>pixel1</th>\n",
       "      <th>pixel2</th>\n",
       "      <th>pixel3</th>\n",
       "      <th>pixel4</th>\n",
       "      <th>pixel5</th>\n",
       "      <th>pixel6</th>\n",
       "      <th>pixel7</th>\n",
       "      <th>pixel8</th>\n",
       "      <th>...</th>\n",
       "      <th>pixel774</th>\n",
       "      <th>pixel775</th>\n",
       "      <th>pixel776</th>\n",
       "      <th>pixel777</th>\n",
       "      <th>pixel778</th>\n",
       "      <th>pixel779</th>\n",
       "      <th>pixel780</th>\n",
       "      <th>pixel781</th>\n",
       "      <th>pixel782</th>\n",
       "      <th>pixel783</th>\n",
       "    </tr>\n",
       "  </thead>\n",
       "  <tbody>\n",
       "    <tr>\n",
       "      <th>0</th>\n",
       "      <td>1</td>\n",
       "      <td>0</td>\n",
       "      <td>0</td>\n",
       "      <td>0</td>\n",
       "      <td>0</td>\n",
       "      <td>0</td>\n",
       "      <td>0</td>\n",
       "      <td>0</td>\n",
       "      <td>0</td>\n",
       "      <td>0</td>\n",
       "      <td>...</td>\n",
       "      <td>0</td>\n",
       "      <td>0</td>\n",
       "      <td>0</td>\n",
       "      <td>0</td>\n",
       "      <td>0</td>\n",
       "      <td>0</td>\n",
       "      <td>0</td>\n",
       "      <td>0</td>\n",
       "      <td>0</td>\n",
       "      <td>0</td>\n",
       "    </tr>\n",
       "    <tr>\n",
       "      <th>1</th>\n",
       "      <td>0</td>\n",
       "      <td>0</td>\n",
       "      <td>0</td>\n",
       "      <td>0</td>\n",
       "      <td>0</td>\n",
       "      <td>0</td>\n",
       "      <td>0</td>\n",
       "      <td>0</td>\n",
       "      <td>0</td>\n",
       "      <td>0</td>\n",
       "      <td>...</td>\n",
       "      <td>0</td>\n",
       "      <td>0</td>\n",
       "      <td>0</td>\n",
       "      <td>0</td>\n",
       "      <td>0</td>\n",
       "      <td>0</td>\n",
       "      <td>0</td>\n",
       "      <td>0</td>\n",
       "      <td>0</td>\n",
       "      <td>0</td>\n",
       "    </tr>\n",
       "    <tr>\n",
       "      <th>2</th>\n",
       "      <td>1</td>\n",
       "      <td>0</td>\n",
       "      <td>0</td>\n",
       "      <td>0</td>\n",
       "      <td>0</td>\n",
       "      <td>0</td>\n",
       "      <td>0</td>\n",
       "      <td>0</td>\n",
       "      <td>0</td>\n",
       "      <td>0</td>\n",
       "      <td>...</td>\n",
       "      <td>0</td>\n",
       "      <td>0</td>\n",
       "      <td>0</td>\n",
       "      <td>0</td>\n",
       "      <td>0</td>\n",
       "      <td>0</td>\n",
       "      <td>0</td>\n",
       "      <td>0</td>\n",
       "      <td>0</td>\n",
       "      <td>0</td>\n",
       "    </tr>\n",
       "    <tr>\n",
       "      <th>3</th>\n",
       "      <td>4</td>\n",
       "      <td>0</td>\n",
       "      <td>0</td>\n",
       "      <td>0</td>\n",
       "      <td>0</td>\n",
       "      <td>0</td>\n",
       "      <td>0</td>\n",
       "      <td>0</td>\n",
       "      <td>0</td>\n",
       "      <td>0</td>\n",
       "      <td>...</td>\n",
       "      <td>0</td>\n",
       "      <td>0</td>\n",
       "      <td>0</td>\n",
       "      <td>0</td>\n",
       "      <td>0</td>\n",
       "      <td>0</td>\n",
       "      <td>0</td>\n",
       "      <td>0</td>\n",
       "      <td>0</td>\n",
       "      <td>0</td>\n",
       "    </tr>\n",
       "    <tr>\n",
       "      <th>4</th>\n",
       "      <td>0</td>\n",
       "      <td>0</td>\n",
       "      <td>0</td>\n",
       "      <td>0</td>\n",
       "      <td>0</td>\n",
       "      <td>0</td>\n",
       "      <td>0</td>\n",
       "      <td>0</td>\n",
       "      <td>0</td>\n",
       "      <td>0</td>\n",
       "      <td>...</td>\n",
       "      <td>0</td>\n",
       "      <td>0</td>\n",
       "      <td>0</td>\n",
       "      <td>0</td>\n",
       "      <td>0</td>\n",
       "      <td>0</td>\n",
       "      <td>0</td>\n",
       "      <td>0</td>\n",
       "      <td>0</td>\n",
       "      <td>0</td>\n",
       "    </tr>\n",
       "  </tbody>\n",
       "</table>\n",
       "<p>5 rows × 785 columns</p>\n",
       "</div>"
      ],
      "text/plain": [
       "   label  pixel0  pixel1  pixel2  pixel3  pixel4  pixel5  pixel6  pixel7  \\\n",
       "0      1       0       0       0       0       0       0       0       0   \n",
       "1      0       0       0       0       0       0       0       0       0   \n",
       "2      1       0       0       0       0       0       0       0       0   \n",
       "3      4       0       0       0       0       0       0       0       0   \n",
       "4      0       0       0       0       0       0       0       0       0   \n",
       "\n",
       "   pixel8    ...     pixel774  pixel775  pixel776  pixel777  pixel778  \\\n",
       "0       0    ...            0         0         0         0         0   \n",
       "1       0    ...            0         0         0         0         0   \n",
       "2       0    ...            0         0         0         0         0   \n",
       "3       0    ...            0         0         0         0         0   \n",
       "4       0    ...            0         0         0         0         0   \n",
       "\n",
       "   pixel779  pixel780  pixel781  pixel782  pixel783  \n",
       "0         0         0         0         0         0  \n",
       "1         0         0         0         0         0  \n",
       "2         0         0         0         0         0  \n",
       "3         0         0         0         0         0  \n",
       "4         0         0         0         0         0  \n",
       "\n",
       "[5 rows x 785 columns]"
      ]
     },
     "execution_count": 4,
     "metadata": {},
     "output_type": "execute_result"
    }
   ],
   "source": [
    "import pandas as pd\n",
    "digit_train = pd.read_csv('digit_train.csv')\n",
    "digit_train.head(5)"
   ]
  },
  {
   "cell_type": "markdown",
   "metadata": {},
   "source": [
    "(b) Write a function to display an MNIS Tdigit. Display one of each digit."
   ]
  },
  {
   "cell_type": "code",
   "execution_count": 5,
   "metadata": {},
   "outputs": [
    {
     "data": {
      "image/png": "[encoded data removed]",
      "text/plain": [
       "<matplotlib.figure.Figure at 0x1160b4438>"
      ]
     },
     "metadata": {},
     "output_type": "display_data"
    }
   ],
   "source": [
    "import numpy as np\n",
    "import seaborn as sns\n",
    "import matplotlib.pyplot as plt\n",
    "\n",
    "def display(df, i, tick_visible = False):\n",
    "    digit = df.iloc[i][1:].values.reshape(28,28)\n",
    "    sns.heatmap(digit, cbar = False, xticklabels = tick_visible, yticklabels = tick_visible)\n",
    "    return\n",
    "\n",
    "plt.figure(figsize = (10,1.2))\n",
    "for i in range(0,10):\n",
    "    n = digit_train[digit_train.label == i].index[2]\n",
    "    plt.subplot(1,10,i+1)\n",
    "    display(digit_train, n)\n",
    "plt.show()"
   ]
  },
  {
   "cell_type": "markdown",
   "metadata": {},
   "source": [
    "(c) Examine the prior probability of the classes in the training data. Is it uniform across the digits? Display a normalized histogram of digit counts. Is it even?"
   ]
  },
  {
   "cell_type": "code",
   "execution_count": 6,
   "metadata": {},
   "outputs": [
    {
     "data": {
      "image/png": "[encoded data removed]",
      "text/plain": [
       "<matplotlib.figure.Figure at 0x1160a7ac8>"
      ]
     },
     "metadata": {},
     "output_type": "display_data"
    }
   ],
   "source": [
    "plt.figure(figsize = (10,5))\n",
    "plt.title('Digits Distribution')\n",
    "ax = sns.distplot(digit_train.label)\n",
    "plt.show()"
   ]
  },
  {
   "cell_type": "markdown",
   "metadata": {},
   "source": [
    "(d) Pick one example of each digit from your training data. Then, for each sample digit,compute and show the best match (nearest neighbor) between your chosen sample and the rest of the training data. Use L2 distance between the two images’ pixel values as the metric. This probably won’t be perfect, so add an asterisk next to the erroneous examples (if any)."
   ]
  },
  {
   "cell_type": "code",
   "execution_count": 7,
   "metadata": {
    "collapsed": true
   },
   "outputs": [],
   "source": [
    "from scipy.spatial.distance import cdist\n",
    "train_x = digit_train[digit_train.columns[1:]]\n",
    "train_y = digit_train.label.as_matrix\n",
    "sample = train_x.iloc[10:12]\n",
    "\n",
    "#Get top 10 nearest neighbors\n",
    "def matrix(df, sample):\n",
    "    if len(sample.shape) == 1:\n",
    "        sample = sample.values.reshape(1,-1)\n",
    "    matrix = cdist(train_x, sample, 'euclidean')\n",
    "    return matrix\n",
    "\n",
    "def index(matrix, n):\n",
    "    return np.argsort(matrix, axis = 0)[:n, ]\n",
    "\n",
    "def distance(matrix, n):\n",
    "    return np.sort(matrix, axis = 0)[:n, ]"
   ]
  },
  {
   "cell_type": "code",
   "execution_count": 8,
   "metadata": {},
   "outputs": [
    {
     "name": "stdout",
     "output_type": "stream",
     "text": [
      "[[   10    11]\n",
      " [32586 35742]\n",
      " [35135 25790]\n",
      " [23551    58]\n",
      " [25240 23630]]\n",
      "[[    0.             0.        ]\n",
      " [ 1593.777588     910.57674031]\n",
      " [ 1654.5585514    924.78483984]\n",
      " [ 1669.95029866   972.36361512]\n",
      " [ 1686.01957284   975.564452  ]]\n"
     ]
    }
   ],
   "source": [
    "m = matrix(train_x, sample)\n",
    "print(index(m, 5))\n",
    "print(distance(m, 5))"
   ]
  },
  {
   "cell_type": "code",
   "execution_count": 9,
   "metadata": {
    "collapsed": true
   },
   "outputs": [],
   "source": [
    "sample_index = [0,1,3,6,7,8,10,11,16,21]\n",
    "sample_digit = train_x.iloc[sample_index]\n",
    "dis_matrix = matrix(train_x, sample_digit)\n",
    "best_matches = index(dis_matrix, 2)\n",
    "dis = distance(dis_matrix, 2)\n",
    "best_match = best_matches[1,]\n",
    "best_dis = dis[1,]"
   ]
  },
  {
   "cell_type": "code",
   "execution_count": 10,
   "metadata": {},
   "outputs": [
    {
     "data": {
      "image/png": "[encoded data removed]",
      "text/plain": [
       "<matplotlib.figure.Figure at 0x115dada20>"
      ]
     },
     "metadata": {},
     "output_type": "display_data"
    }
   ],
   "source": [
    "plt.figure(figsize = (16,4))\n",
    "\n",
    "for i in range(10):\n",
    "    plt.subplot(2,11,i+2)\n",
    "    display(digit_train, sample_index[i])\n",
    "    \n",
    "    plt.subplot(2,11,i+13)\n",
    "    display(digit_train, best_match[i])\n",
    "    \n",
    "    \n",
    "fig = plt.subplot(2, 11, 1 )\n",
    "plt.text(0.02, 0.5, \"Chosen\\nSample\", fontsize = 15)\n",
    "fig.axes.get_xaxis().set_visible(False)\n",
    "fig.axes.get_yaxis().set_visible(False)\n",
    "\n",
    "fig = plt.subplot(2, 11, 12 )\n",
    "plt.text(0.02, 0.5, \"Best\\nMatch\", fontsize = 15)\n",
    "fig.axes.get_xaxis().set_visible(False)\n",
    "fig.axes.get_yaxis().set_visible(False)\n",
    "\n",
    "plt.show()    "
   ]
  },
  {
   "cell_type": "code",
   "execution_count": 11,
   "metadata": {},
   "outputs": [
    {
     "data": {
      "text/html": [
       "<div>\n",
       "<style>\n",
       "    .dataframe thead tr:only-child th {\n",
       "        text-align: right;\n",
       "    }\n",
       "\n",
       "    .dataframe thead th {\n",
       "        text-align: left;\n",
       "    }\n",
       "\n",
       "    .dataframe tbody tr th {\n",
       "        vertical-align: top;\n",
       "    }\n",
       "</style>\n",
       "<table border=\"1\" class=\"dataframe\">\n",
       "  <thead>\n",
       "    <tr style=\"text-align: right;\">\n",
       "      <th></th>\n",
       "      <th>Best_matches_Index</th>\n",
       "      <th>Chosen Digit</th>\n",
       "      <th>Chosen_digit_index</th>\n",
       "      <th>Distance</th>\n",
       "    </tr>\n",
       "  </thead>\n",
       "  <tbody>\n",
       "    <tr>\n",
       "      <th>0</th>\n",
       "      <td>29704</td>\n",
       "      <td>1</td>\n",
       "      <td>0</td>\n",
       "      <td>489.679487</td>\n",
       "    </tr>\n",
       "    <tr>\n",
       "      <th>1</th>\n",
       "      <td>12950</td>\n",
       "      <td>0</td>\n",
       "      <td>1</td>\n",
       "      <td>1046.595433</td>\n",
       "    </tr>\n",
       "    <tr>\n",
       "      <th>3</th>\n",
       "      <td>14787</td>\n",
       "      <td>4</td>\n",
       "      <td>3</td>\n",
       "      <td>1356.880982</td>\n",
       "    </tr>\n",
       "    <tr>\n",
       "      <th>6</th>\n",
       "      <td>15275</td>\n",
       "      <td>7</td>\n",
       "      <td>6</td>\n",
       "      <td>863.501013</td>\n",
       "    </tr>\n",
       "    <tr>\n",
       "      <th>7</th>\n",
       "      <td>8981</td>\n",
       "      <td>3</td>\n",
       "      <td>7</td>\n",
       "      <td>1832.664999</td>\n",
       "    </tr>\n",
       "    <tr>\n",
       "      <th>8</th>\n",
       "      <td>30073</td>\n",
       "      <td>5</td>\n",
       "      <td>8</td>\n",
       "      <td>1066.367666</td>\n",
       "    </tr>\n",
       "    <tr>\n",
       "      <th>10</th>\n",
       "      <td>32586</td>\n",
       "      <td>8</td>\n",
       "      <td>10</td>\n",
       "      <td>1593.777588</td>\n",
       "    </tr>\n",
       "    <tr>\n",
       "      <th>11</th>\n",
       "      <td>35742</td>\n",
       "      <td>9</td>\n",
       "      <td>11</td>\n",
       "      <td>910.576740</td>\n",
       "    </tr>\n",
       "    <tr>\n",
       "      <th>16</th>\n",
       "      <td>9536</td>\n",
       "      <td>2</td>\n",
       "      <td>16</td>\n",
       "      <td>1380.877257</td>\n",
       "    </tr>\n",
       "    <tr>\n",
       "      <th>21</th>\n",
       "      <td>16240</td>\n",
       "      <td>6</td>\n",
       "      <td>21</td>\n",
       "      <td>1446.511320</td>\n",
       "    </tr>\n",
       "  </tbody>\n",
       "</table>\n",
       "</div>"
      ],
      "text/plain": [
       "    Best_matches_Index  Chosen Digit  Chosen_digit_index     Distance\n",
       "0                29704             1                   0   489.679487\n",
       "1                12950             0                   1  1046.595433\n",
       "3                14787             4                   3  1356.880982\n",
       "6                15275             7                   6   863.501013\n",
       "7                 8981             3                   7  1832.664999\n",
       "8                30073             5                   8  1066.367666\n",
       "10               32586             8                  10  1593.777588\n",
       "11               35742             9                  11   910.576740\n",
       "16                9536             2                  16  1380.877257\n",
       "21               16240             6                  21  1446.511320"
      ]
     },
     "execution_count": 11,
     "metadata": {},
     "output_type": "execute_result"
    }
   ],
   "source": [
    "pd.DataFrame(data = {'Chosen Digit': digit_train.label[sample_index], 'Chosen_digit_index': sample_index,\n",
    "                     'Best_matches_Index' : best_match, 'Distance': best_dis})"
   ]
  },
  {
   "cell_type": "markdown",
   "metadata": {},
   "source": [
    "(e) Consider the case of binary comparison between the digits 0 and 1. Ignoring all the other digits, compute the pairwise distances for all genuine matches and all impostor matches, again using the L2 norm. Plot histograms of the genuine and impostor distances on the same set of axes.\n"
   ]
  },
  {
   "cell_type": "code",
   "execution_count": 12,
   "metadata": {
    "collapsed": true
   },
   "outputs": [],
   "source": [
    "import sklearn.metrics.pairwise\n",
    "one_zero = digit_train[digit_train.label <= 1]\n",
    "one_zero = one_zero.sort_values('label')\n",
    "num_of_0 = (one_zero.label == 0).sum()\n",
    "num_of_1 = (one_zero.label == 1).sum()\n",
    "one_zero = one_zero.drop('label', axis = 1)\n",
    "dis_m_2 = sklearn.metrics.pairwise.pairwise_distances(one_zero)"
   ]
  },
  {
   "cell_type": "code",
   "execution_count": 13,
   "metadata": {
    "collapsed": true
   },
   "outputs": [],
   "source": [
    "true_0 = dis_m_2[:num_of_0, :num_of_0].reshape(1,4132**2)\n",
    "true_1 = dis_m_2[num_of_0:, num_of_0:].reshape(1,4684**2)\n",
    "false_0 = dis_m_2[:num_of_0, num_of_0:].reshape(1,4684*4132)\n",
    "false_1 = dis_m_2[num_of_0:, :num_of_0].reshape(1,4684*4132)\n",
    "true = np.append(true_0, true_1)\n",
    "false = np.append(false_0, false_1)"
   ]
  },
  {
   "cell_type": "code",
   "execution_count": 14,
   "metadata": {},
   "outputs": [
    {
     "data": {
      "image/png": "[encoded data removed]",
      "text/plain": [
       "<matplotlib.figure.Figure at 0x115d4e940>"
      ]
     },
     "metadata": {},
     "output_type": "display_data"
    }
   ],
   "source": [
    "plt.figure(figsize = (12,6))\n",
    "sns.distplot(true, color = 'b')\n",
    "sns.distplot(false, color = 'g')\n",
    "plt.title('Genuine Distance (blue) VS Imposter Distance (green)', fontsize = 15)\n",
    "plt.show()"
   ]
  },
  {
   "cell_type": "markdown",
   "metadata": {},
   "source": [
    "(f) Generate an ROC curve from the above sets of distances. What is the equal error rate? What is the error rate of a classifier that simply guesses randomly?"
   ]
  },
  {
   "cell_type": "code",
   "execution_count": 15,
   "metadata": {
    "collapsed": true
   },
   "outputs": [],
   "source": [
    "def error(s):\n",
    "    TP = (true <= s).sum()\n",
    "    FN = len(true) - TP\n",
    "    FP = (false <= s).sum()\n",
    "    TN = len(false) - FP\n",
    "    return TP, TN, FP, FN\n",
    "\n",
    "t = list(range(0, 4132, 25))\n",
    "a = np.array(list(map(error, t)))\n",
    "TP_rate = a[:,0]/(a[:,0] + a[:,3])\n",
    "FP_rate = a[:,2]/(a[:,2] + a[:,1])"
   ]
  },
  {
   "cell_type": "code",
   "execution_count": 16,
   "metadata": {},
   "outputs": [
    {
     "data": {
      "image/png": "[encoded data removed]",
      "text/plain": [
       "<matplotlib.figure.Figure at 0x11819f358>"
      ]
     },
     "metadata": {},
     "output_type": "display_data"
    }
   ],
   "source": [
    "ax = plt.figure(figsize = (12,8))\n",
    "plt.title('ROC Curve')\n",
    "plt.plot(TP_rate, FP_rate)\n",
    "plt.xlabel('True Positive Rate')\n",
    "plt.ylabel('False Positive Rate')\n",
    "plt.plot([0,1], [1,0], linestyle = ':')\n",
    "plt.show()"
   ]
  },
  {
   "cell_type": "code",
   "execution_count": 17,
   "metadata": {},
   "outputs": [
    {
     "data": {
      "text/html": [
       "<div>\n",
       "<style>\n",
       "    .dataframe thead tr:only-child th {\n",
       "        text-align: right;\n",
       "    }\n",
       "\n",
       "    .dataframe thead th {\n",
       "        text-align: left;\n",
       "    }\n",
       "\n",
       "    .dataframe tbody tr th {\n",
       "        vertical-align: top;\n",
       "    }\n",
       "</style>\n",
       "<table border=\"1\" class=\"dataframe\">\n",
       "  <thead>\n",
       "    <tr style=\"text-align: right;\">\n",
       "      <th></th>\n",
       "      <th>FAR</th>\n",
       "      <th>FRR</th>\n",
       "      <th>diff</th>\n",
       "    </tr>\n",
       "  </thead>\n",
       "  <tbody>\n",
       "    <tr>\n",
       "      <th>105</th>\n",
       "      <td>0.177021</td>\n",
       "      <td>0.190798</td>\n",
       "      <td>0.013776</td>\n",
       "    </tr>\n",
       "  </tbody>\n",
       "</table>\n",
       "</div>"
      ],
      "text/plain": [
       "          FAR       FRR      diff\n",
       "105  0.177021  0.190798  0.013776"
      ]
     },
     "execution_count": 17,
     "metadata": {},
     "output_type": "execute_result"
    }
   ],
   "source": [
    "FAR = a[:, 2]/len(true)\n",
    "FRR = a[:, 3]/len(false)\n",
    "e_df = pd.DataFrame({'FAR' : FAR, 'FRR' : FRR})\n",
    "e_df['diff'] = abs(e_df.FAR - e_df.FRR)\n",
    "mn = min(e_df['diff'])\n",
    "e_df[e_df['diff'] == mn]"
   ]
  },
  {
   "cell_type": "markdown",
   "metadata": {},
   "source": [
    "(g) Implement a K-NN classifier. (You cannot use external libraries for this question; it should be your own implementation.)"
   ]
  },
  {
   "cell_type": "code",
   "execution_count": 33,
   "metadata": {
    "collapsed": true
   },
   "outputs": [],
   "source": [
    "test_x = pd.read_csv('digit_test.csv') \n",
    "test = test_x"
   ]
  },
  {
   "cell_type": "code",
   "execution_count": 31,
   "metadata": {
    "collapsed": true
   },
   "outputs": [],
   "source": [
    "from scipy.stats import mode\n",
    "import itertools\n",
    "\n",
    "def weight(v):\n",
    "    n = len(v)\n",
    "    ls = []\n",
    "    for i in range(n):\n",
    "        ls.append([v[i]]*(n-i))\n",
    "    return mode(list(itertools.chain.from_iterable(ls)))[0][0]\n",
    "\n",
    "def knn(train, test, k=10):\n",
    "    dis_matrix = matrix(train, test)\n",
    "    ind = index(dis_matrix, k)\n",
    "    matches = pd.DataFrame(ind).applymap(lambda i: digit_train.label.iloc[i])\n",
    "    best_match = matches.apply(weight)\n",
    "    return list(best_match)\n"
   ]
  },
  {
   "cell_type": "code",
   "execution_count": 8,
   "metadata": {
    "collapsed": true
   },
   "outputs": [],
   "source": [
    "from multiprocessing import Pool\n",
    "import time\n",
    "\n",
    "def knn_model(x):\n",
    "    return knn(digit_train, x, 10)\n",
    "\n",
    "def multi_proc(t):\n",
    "    if __name__ == \"__main__\":\n",
    "        t1 = time.time()\n",
    "        p = Pool()\n",
    "        result = p.map(knn_model, t)\n",
    "        p.close()\n",
    "        p.join()\n",
    "        \n",
    "        a = []\n",
    "        for x in result:\n",
    "            a += x\n",
    "    return a\n",
    "\n",
    "def split(df,n):\n",
    "    ls = []\n",
    "    k = round(len(df)/n)\n",
    "    for i in range(n+1):\n",
    "        if i < n:\n",
    "            ls.append(df.iloc[i*k: (i+1)*k])\n",
    "        else: \n",
    "            ls.append(df.iloc[i*k:])\n",
    "    return ls"
   ]
  },
  {
   "cell_type": "code",
   "execution_count": 10,
   "metadata": {
    "collapsed": true
   },
   "outputs": [],
   "source": [
    "def knn_predict(train, test, k):\n",
    "    #create_model(train, k)\n",
    "    n = len(test)\n",
    "    if n < 10:\n",
    "        prediction = knn(train, test, k)\n",
    "    else:   \n",
    "        test_splited = split(test, round(n**0.5))\n",
    "        prediction = multi_proc(test_splited)    \n",
    "    return pd.DataFrame({'ImageId': range(1,n+1), 'Label': prediction})"
   ]
  },
  {
   "cell_type": "markdown",
   "metadata": {},
   "source": [
    "(h) Using the training data for all digits, perform 3 fold cross-validation on your K-NN classifier and report your average accuracy."
   ]
  },
  {
   "cell_type": "code",
   "execution_count": null,
   "metadata": {
    "collapsed": true
   },
   "outputs": [],
   "source": [
    "from sklearn.model_selection import KFold\n",
    "\n",
    "def kf(df, k):\n",
    "    x = df\n",
    "    kfold = KFold(n_splits = k)\n",
    "    score = []\n",
    "    t_p = []\n",
    "    for train_id, test_id in kfold.split(x):\n",
    "        train = df.iloc[train_id]\n",
    "        test = df.iloc[test_id]\n",
    "        train_x = train.drop('label', axis = 1)\n",
    "        train_y = train.label\n",
    "        test_x = test.drop('label', axis = 1)\n",
    "        test_y = test.label\n",
    "        \n",
    "        prediction = knn_predict(train, test_x, 10)\n",
    "        accuracy = (np.array(test_y) == np.array(prediction.Label)).sum()/len(test_y)        \n",
    "        score.append(accuracy)\n",
    "        t_p.append(pd.DataFrame({'True': np.array(test_y), 'Prediction': np.array(prediction.Label)}))\n",
    "    return score, t_p\n",
    "\n",
    "score, t_p = kf(digit_train, 3)\n",
    "score"
   ]
  },
  {
   "cell_type": "markdown",
   "metadata": {},
   "source": [
    "(i) Generate a confusion matrix (of size 10 x 10) from your results. Which digits are particularly tricky to classify?\n"
   ]
  },
  {
   "cell_type": "code",
   "execution_count": null,
   "metadata": {
    "collapsed": true
   },
   "outputs": [],
   "source": [
    "tp = pd.concat(t_p).reset_index()\n",
    "tp = tp[['Prediction', 'True']]"
   ]
  },
  {
   "cell_type": "code",
   "execution_count": null,
   "metadata": {
    "collapsed": true
   },
   "outputs": [],
   "source": [
    "cf_matrix = []\n",
    "for i in range(10):\n",
    "    for j in range(10):\n",
    "        df1 = tp[tp['True'] == i]\n",
    "        df2 = df1[df1['Prediction'] == j]\n",
    "        cf_matrix.append(len(df2))"
   ]
  },
  {
   "cell_type": "code",
   "execution_count": null,
   "metadata": {
    "collapsed": true
   },
   "outputs": [],
   "source": [
    "print('True for index, and prediction for column name')\n",
    "pd.DataFrame(np.array(cf_matrix).reshape(10,10), \n",
    "             columns = [str(a) for a in range(10)])"
   ]
  },
  {
   "cell_type": "markdown",
   "metadata": {},
   "source": [
    "    It looks like that 2, 7, 8, 9 particularly tricky to classify."
   ]
  },
  {
   "cell_type": "markdown",
   "metadata": {},
   "source": [
    "(j) Train your classifier with all of the training data, and test your classifier with the test data. Submit your results to Kaggle."
   ]
  },
  {
   "cell_type": "code",
   "execution_count": 34,
   "metadata": {},
   "outputs": [
    {
     "name": "stdout",
     "output_type": "stream",
     "text": [
      "took 280.2535710334778\n"
     ]
    }
   ],
   "source": [
    "import time\n",
    "t1 = time.time()\n",
    "prediction = knn_predict(digit_train, test, 10)\n",
    "print('took', time.time() - t1)"
   ]
  },
  {
   "cell_type": "code",
   "execution_count": null,
   "metadata": {
    "collapsed": true
   },
   "outputs": [],
   "source": [
    "prediction.head(5)"
   ]
  },
  {
   "cell_type": "code",
   "execution_count": 35,
   "metadata": {
    "collapsed": true
   },
   "outputs": [],
   "source": [
    "# export prediction \n",
    "prediction.to_csv('prediction3.csv', index = False)"
   ]
  },
  {
   "cell_type": "code",
   "execution_count": null,
   "metadata": {
    "collapsed": true
   },
   "outputs": [],
   "source": []
  }
 ],
 "metadata": {
  "kernelspec": {
   "display_name": "Python 3",
   "language": "python",
   "name": "python3"
  },
  "language_info": {
   "codemirror_mode": {
    "name": "ipython",
    "version": 3
   },
   "file_extension": ".py",
   "mimetype": "text/x-python",
   "name": "python",
   "nbconvert_exporter": "python",
   "pygments_lexer": "ipython3",
   "version": "3.6.1"
  }
 },
 "nbformat": 4,
 "nbformat_minor": 2
}
