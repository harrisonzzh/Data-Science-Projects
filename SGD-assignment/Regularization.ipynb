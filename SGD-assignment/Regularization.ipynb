{
 "cells": [
  {
   "cell_type": "code",
   "execution_count": 1,
   "metadata": {
    "collapsed": true
   },
   "outputs": [],
   "source": [
    "# These are all the modules we'll be using later. Make sure you can import them\n",
    "# before proceeding further.\n",
    "from __future__ import print_function\n",
    "import numpy as np\n",
    "import tensorflow as tf\n",
    "from six.moves import cPickle as pickle"
   ]
  },
  {
   "cell_type": "code",
   "execution_count": 2,
   "metadata": {},
   "outputs": [
    {
     "name": "stdout",
     "output_type": "stream",
     "text": [
      "Training set (200000, 28, 28) (200000,)\n",
      "Validation set (10000, 28, 28) (10000,)\n",
      "Test set (10000, 28, 28) (10000,)\n"
     ]
    }
   ],
   "source": [
    "pickle_file = 'notMNIST.pickle'\n",
    "\n",
    "with open(pickle_file, 'rb') as f:\n",
    "    save = pickle.load(f)\n",
    "    train_dataset = save['train_dataset']\n",
    "    train_labels = save['train_labels']\n",
    "    valid_dataset = save['valid_dataset']\n",
    "    valid_labels = save['valid_labels']\n",
    "    test_dataset = save['test_dataset']\n",
    "    test_labels = save['test_labels']\n",
    "    del save  # hint to help gc free up memory\n",
    "    print('Training set', train_dataset.shape, train_labels.shape)\n",
    "    print('Validation set', valid_dataset.shape, valid_labels.shape)\n",
    "    print('Test set', test_dataset.shape, test_labels.shape)\n"
   ]
  },
  {
   "cell_type": "code",
   "execution_count": 3,
   "metadata": {},
   "outputs": [
    {
     "name": "stdout",
     "output_type": "stream",
     "text": [
      "Training set (200000, 784) (200000, 10)\n",
      "Validation set (10000, 784) (10000, 10)\n",
      "Test set (10000, 784) (10000, 10)\n"
     ]
    }
   ],
   "source": [
    "image_size = 28\n",
    "num_labels = 10\n",
    "\n",
    "def reformat(dataset, labels):\n",
    "    dataset = dataset.reshape((-1, image_size * image_size)).astype(np.float32)\n",
    "    # Map 1 to [0.0, 1.0, 0.0 ...], 2 to [0.0, 0.0, 1.0 ...]\n",
    "    labels = (np.arange(num_labels) == labels[:,None]).astype(np.float32)\n",
    "    return dataset, labels\n",
    "train_dataset, train_labels = reformat(train_dataset, train_labels)\n",
    "valid_dataset, valid_labels = reformat(valid_dataset, valid_labels)\n",
    "test_dataset, test_labels = reformat(test_dataset, test_labels)\n",
    "print('Training set', train_dataset.shape, train_labels.shape)\n",
    "print('Validation set', valid_dataset.shape, valid_labels.shape)\n",
    "print('Test set', test_dataset.shape, test_labels.shape)"
   ]
  },
  {
   "cell_type": "code",
   "execution_count": 4,
   "metadata": {
    "collapsed": true
   },
   "outputs": [],
   "source": [
    "\n",
    "def accuracy(predictions, labels):\n",
    "      return (100.0 * np.sum(np.argmax(predictions, 1) == np.argmax(labels, 1))\n",
    "          / predictions.shape[0])"
   ]
  },
  {
   "cell_type": "markdown",
   "metadata": {},
   "source": [
    "### L2 "
   ]
  },
  {
   "cell_type": "code",
   "execution_count": 5,
   "metadata": {
    "collapsed": true
   },
   "outputs": [],
   "source": [
    "def initiate(num_input, num_output):\n",
    "    w = tf.Variable(\n",
    "    tf.truncated_normal([num_input, num_output]))\n",
    "    b = tf.Variable(tf.zeros([num_output]))\n",
    "    \n",
    "    return w, b\n",
    "\n",
    "def model(X, w1, b1, w2, b2): \n",
    "    logits1 = tf.matmul(X, w1) + b1\n",
    "    relu1 = tf.nn.relu(logits1)\n",
    "    logits2 = tf.matmul(relu1, w2) + b2\n",
    "    return logits2\n"
   ]
  },
  {
   "cell_type": "code",
   "execution_count": null,
   "metadata": {},
   "outputs": [],
   "source": [
    "batch_size = 128  ## subset size\n",
    "\n",
    "graph = tf.Graph()\n",
    "with graph.as_default():\n",
    "\n",
    "    # Placeholder that will fed the training data\n",
    "    # at run time with a training minibatch.\n",
    "    \n",
    "    tf_train_dataset = tf.placeholder(tf.float32,\n",
    "                                    shape=(batch_size, image_size * image_size))\n",
    "    tf_train_labels = tf.placeholder(tf.float32, shape=(batch_size, num_labels))\n",
    "    tf_valid_dataset = tf.constant(valid_dataset)\n",
    "    tf_test_dataset = tf.constant(test_dataset)\n",
    "    \n",
    "    \n",
    "    # initiate weights\n",
    "    weight1, biases1 = initiate(784,1024)\n",
    "    weight2, biases2 = initiate(1024,10)\n",
    "    \n",
    "    # computation\n",
    "    prediction = model(tf_train_dataset, weight1, biases1, weight2, biases2)\n",
    "\n",
    "    # Loss + L2 Loss\n",
    "    loss = tf.reduce_mean(\n",
    "    tf.nn.softmax_cross_entropy_with_logits(labels=tf_train_labels, logits=prediction)) \n",
    "    + 0.01*(tf.nn.l2_loss(weight1) + tf.nn.l2_loss(weight2) \n",
    "            + tf.nn.l2_loss(biases1) + tf.nn.l2_loss(biases2))\n",
    "    \n",
    "    # Optimizer.\n",
    "    optimizer = tf.train.GradientDescentOptimizer(0.5).minimize(loss)\n",
    "\n",
    "    # Predictions for the training, validation, and test data.\n",
    "    train_prediction = tf.nn.softmax(\n",
    "        model(tf_train_dataset, weight1, biases1, weight2, biases2))\n",
    "    valid_prediction = tf.nn.softmax(\n",
    "        model(tf_valid_dataset, weight1, biases1, weight2, biases2))\n",
    "    test_prediction = tf.nn.softmax(\n",
    "        model(tf_test_dataset, weight1, biases1, weight2, biases2))"
   ]
  },
  {
   "cell_type": "code",
   "execution_count": null,
   "metadata": {},
   "outputs": [],
   "source": [
    "num_steps = 5000\n",
    "\n",
    "with tf.Session(graph=graph) as session:\n",
    "    tf.global_variables_initializer().run()\n",
    "    print(\"Initialized\")\n",
    "    for step in range(num_steps):\n",
    "        \n",
    "        # Pick an offset within the training data, which has been randomized.\n",
    "        # Note: we could use better randomization across epochs.\n",
    "        offset = np.random.randint(0,train_dataset.shape[0]/batch_size)*batch_size\n",
    "        \n",
    "        # Random Subsetting\n",
    "        batch_data = train_dataset[offset:(offset + batch_size), :]\n",
    "        batch_labels = train_labels[offset:(offset + batch_size), :]\n",
    "        \n",
    "        # Prepare a dictionary telling the session where to feed the minibatch.\n",
    "        # The key of the dictionary is the placeholder node of the graph to be fed,\n",
    "        # and the value is the numpy array to feed to it.\n",
    "        feed_dict = {tf_train_dataset : batch_data, tf_train_labels : batch_labels}\n",
    "        _, l, predictions = session.run(\n",
    "            [optimizer, loss, prediction], feed_dict=feed_dict)\n",
    "        # since the feeding data is different now. So we need tell the model\n",
    "        # the data we want to feed by using feed_dict.\n",
    "    \n",
    "        if (step % 1000 == 0):\n",
    "            print(\"Offset: %d\" % offset)\n",
    "            print(\"Minibatch loss at step %d: %f\" % (step, l))\n",
    "            print(\"Minibatch accuracy: %.1f%%\" % accuracy(predictions, batch_labels))\n",
    "            print(\"Validation accuracy: %.1f%%\" % accuracy(\n",
    "                valid_prediction.eval(), valid_labels))\n",
    "    print(\"Test accuracy: %.1f%%\" % accuracy(test_prediction.eval(), test_labels))"
   ]
  },
  {
   "cell_type": "markdown",
   "metadata": {},
   "source": [
    "### L2 + Dropout + Decay Learning Rate"
   ]
  },
  {
   "cell_type": "code",
   "execution_count": 161,
   "metadata": {
    "collapsed": true
   },
   "outputs": [],
   "source": [
    "def initiate(num_input, num_output):\n",
    "    w = tf.Variable(\n",
    "    tf.truncated_normal([num_input, num_output]))\n",
    "    b = tf.Variable(tf.zeros([num_output]))\n",
    "    \n",
    "    return w, b\n",
    "\n",
    "def model(X, w1, b1, w2, b2): \n",
    "    logits1 = tf.matmul(X, w1) + b1\n",
    "    relu1 = tf.nn.relu(logits1)\n",
    "    logits2 = tf.matmul(relu1, w2) + b2\n",
    "    return logits2\n",
    "\n",
    "\n",
    "def model_dropout(X, w1, b1, w2, b2): \n",
    "    logits1 = tf.matmul(X, w1) + b1\n",
    "    relu1 = tf.nn.relu(logits1)\n",
    "    \n",
    "    ## Adding dropout\n",
    "    drop_out = tf.nn.dropout(relu1, 0.5)\n",
    "    \n",
    "    logits2 = tf.matmul(drop_out, w2) + b2\n",
    "    \n",
    "    return logits2"
   ]
  },
  {
   "cell_type": "code",
   "execution_count": 164,
   "metadata": {},
   "outputs": [],
   "source": [
    "batch_size = 128  ## subset size\n",
    "\n",
    "graph = tf.Graph()\n",
    "with graph.as_default():\n",
    "\n",
    "    # Placeholder that will fed the training data\n",
    "    # at run time with a training minibatch.\n",
    "    \n",
    "    tf_train_dataset = tf.placeholder(tf.float32,\n",
    "                                    shape=(batch_size, image_size * image_size))\n",
    "    tf_train_labels = tf.placeholder(tf.float32, shape=(batch_size, num_labels))\n",
    "    tf_valid_dataset = tf.constant(valid_dataset)\n",
    "    tf_test_dataset = tf.constant(test_dataset)\n",
    "    \n",
    "    \n",
    "    # initiate weights\n",
    "    weight1, biases1 = initiate(784,1024)\n",
    "    weight2, biases2 = initiate(1024,10)\n",
    "    \n",
    "    # computation\n",
    "    prediction = model(tf_train_dataset, weight1, biases1, weight2, biases2)\n",
    "\n",
    "    # Loss + L2 Loss\n",
    "    loss = tf.reduce_mean(\n",
    "    tf.nn.softmax_cross_entropy_with_logits(labels=tf_train_labels, logits=prediction)) \n",
    "    + 0.001*(tf.nn.l2_loss(weight1) + tf.nn.l2_loss(biases1)  \n",
    "            + tf.nn.l2_loss(weight2) + tf.nn.l2_loss(biases2))\n",
    "    \n",
    "    # Decay Learning Rate\n",
    "    global_step = tf.Variable(0, name= 'global_step', trainable = False)\n",
    "    learning_rate = tf.train.exponential_decay(0.05, global_step, 1000, 0.96, staircase=True)\n",
    "    \n",
    "    # Optimizer.\n",
    "    optimizer = tf.train.GradientDescentOptimizer(learning_rate).minimize(loss, global_step = global_step) \n",
    "        \n",
    "    # Predictions for the training, validation, and test data.\n",
    "    train_prediction = tf.nn.softmax(\n",
    "        model(tf_train_dataset, weight1, biases1, weight2, biases2))\n",
    "    valid_prediction = tf.nn.softmax(\n",
    "        model(tf_valid_dataset, weight1, biases1, weight2, biases2))\n",
    "    test_prediction = tf.nn.softmax(\n",
    "        model(tf_test_dataset, weight1, biases1, weight2, biases2))"
   ]
  },
  {
   "cell_type": "code",
   "execution_count": 166,
   "metadata": {
    "scrolled": false
   },
   "outputs": [
    {
     "name": "stdout",
     "output_type": "stream",
     "text": [
      "Initialized\n",
      "Minibatch loss at step 0: 437.366058\n",
      "Minibatch accuracy: 6.2%\n",
      "Validation accuracy: 16.9%\n",
      "Learning Rate:  0.05\n",
      "Test accuracy: 18.1%\n",
      "Test accuracy: 65.5%\n"
     ]
    }
   ],
   "source": [
    "num_steps = 10\n",
    "\n",
    "with tf.Session(graph=graph) as session:\n",
    "    tf.global_variables_initializer().run()\n",
    "    print(\"Initialized\")\n",
    "    for step in range(num_steps):\n",
    "        \n",
    "        # Pick an offset within the training data, which has been randomized.\n",
    "        # Note: we could use better randomization across epochs.\n",
    "        offset = (step * batch_size) % (train_labels.shape[0] - batch_size)\n",
    "        \n",
    "        # Random Subsetting\n",
    "        batch_data = train_dataset[offset:(offset + batch_size), :]\n",
    "        batch_labels = train_labels[offset:(offset + batch_size), :]\n",
    "        \n",
    "        # Prepare a dictionary telling the session where to feed the minibatch.\n",
    "        # The key of the dictionary is the placeholder node of the graph to be fed,\n",
    "        # and the value is the numpy array to feed to it.\n",
    "                     \n",
    "        feed_dict = {tf_train_dataset : batch_data, tf_train_labels : batch_labels}\n",
    "        _, l, predictions = session.run(\n",
    "            [optimizer, loss, prediction], feed_dict=feed_dict)\n",
    "        # since the feeding data is different now. So we need tell the model\n",
    "        # the data we want to feed by using feed_dict.\n",
    "        \n",
    "        \n",
    "        if (step % 1000 == 0):\n",
    "            print(\"Minibatch loss at step %d: %f\" % (step, l))\n",
    "            print(\"Minibatch accuracy: %.1f%%\" % accuracy(predictions, batch_labels))\n",
    "            print(\"Validation accuracy: %.1f%%\" % accuracy(\n",
    "                valid_prediction.eval(), valid_labels))\n",
    "            print(\"Learning Rate: \", learning_rate.eval())\n",
    "        if (step % 5000 == 0):\n",
    "            print(\"Test accuracy: %.1f%%\" % accuracy(test_prediction.eval(), test_labels))\n",
    "    print(\"Test accuracy: %.1f%%\" % accuracy(test_prediction.eval(), test_labels))            "
   ]
  },
  {
   "cell_type": "code",
   "execution_count": null,
   "metadata": {
    "collapsed": true
   },
   "outputs": [],
   "source": []
  }
 ],
 "metadata": {
  "kernelspec": {
   "display_name": "Python 3",
   "language": "python",
   "name": "python3"
  },
  "language_info": {
   "codemirror_mode": {
    "name": "ipython",
    "version": 3
   },
   "file_extension": ".py",
   "mimetype": "text/x-python",
   "name": "python",
   "nbconvert_exporter": "python",
   "pygments_lexer": "ipython3",
   "version": "3.5.4"
  }
 },
 "nbformat": 4,
 "nbformat_minor": 2
}
